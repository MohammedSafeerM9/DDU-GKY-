{
 "cells": [
  {
   "cell_type": "markdown",
   "id": "20af8a04",
   "metadata": {},
   "source": [
    "# data frame create using list"
   ]
  },
  {
   "cell_type": "code",
   "execution_count": 1,
   "id": "6c2b5af2",
   "metadata": {},
   "outputs": [],
   "source": [
    "import pandas as pd\n",
    "import numpy as np\n",
    "import warnings\n",
    "warnings.filterwarnings('ignore')"
   ]
  },
  {
   "cell_type": "code",
   "execution_count": 2,
   "id": "bcea106e",
   "metadata": {},
   "outputs": [],
   "source": [
    "name = ['safeer','dhavood','anzal','arun','ramshad','jishnu','annan','siraj']\n",
    "age = [24,24,25,25,24,24,25,23]\n"
   ]
  },
  {
   "cell_type": "code",
   "execution_count": 3,
   "id": "f74da39b",
   "metadata": {},
   "outputs": [],
   "source": [
    "data = pd.DataFrame(list(zip(name,age)))"
   ]
  },
  {
   "cell_type": "code",
   "execution_count": 4,
   "id": "5ae1ffbc",
   "metadata": {},
   "outputs": [
    {
     "data": {
      "text/html": [
       "<div>\n",
       "<style scoped>\n",
       "    .dataframe tbody tr th:only-of-type {\n",
       "        vertical-align: middle;\n",
       "    }\n",
       "\n",
       "    .dataframe tbody tr th {\n",
       "        vertical-align: top;\n",
       "    }\n",
       "\n",
       "    .dataframe thead th {\n",
       "        text-align: right;\n",
       "    }\n",
       "</style>\n",
       "<table border=\"1\" class=\"dataframe\">\n",
       "  <thead>\n",
       "    <tr style=\"text-align: right;\">\n",
       "      <th></th>\n",
       "      <th>0</th>\n",
       "      <th>1</th>\n",
       "    </tr>\n",
       "  </thead>\n",
       "  <tbody>\n",
       "    <tr>\n",
       "      <th>0</th>\n",
       "      <td>safeer</td>\n",
       "      <td>24</td>\n",
       "    </tr>\n",
       "    <tr>\n",
       "      <th>1</th>\n",
       "      <td>dhavood</td>\n",
       "      <td>24</td>\n",
       "    </tr>\n",
       "    <tr>\n",
       "      <th>2</th>\n",
       "      <td>anzal</td>\n",
       "      <td>25</td>\n",
       "    </tr>\n",
       "    <tr>\n",
       "      <th>3</th>\n",
       "      <td>arun</td>\n",
       "      <td>25</td>\n",
       "    </tr>\n",
       "    <tr>\n",
       "      <th>4</th>\n",
       "      <td>ramshad</td>\n",
       "      <td>24</td>\n",
       "    </tr>\n",
       "    <tr>\n",
       "      <th>5</th>\n",
       "      <td>jishnu</td>\n",
       "      <td>24</td>\n",
       "    </tr>\n",
       "    <tr>\n",
       "      <th>6</th>\n",
       "      <td>annan</td>\n",
       "      <td>25</td>\n",
       "    </tr>\n",
       "    <tr>\n",
       "      <th>7</th>\n",
       "      <td>siraj</td>\n",
       "      <td>23</td>\n",
       "    </tr>\n",
       "  </tbody>\n",
       "</table>\n",
       "</div>"
      ],
      "text/plain": [
       "         0   1\n",
       "0   safeer  24\n",
       "1  dhavood  24\n",
       "2    anzal  25\n",
       "3     arun  25\n",
       "4  ramshad  24\n",
       "5   jishnu  24\n",
       "6    annan  25\n",
       "7    siraj  23"
      ]
     },
     "execution_count": 4,
     "metadata": {},
     "output_type": "execute_result"
    }
   ],
   "source": [
    "data"
   ]
  },
  {
   "cell_type": "code",
   "execution_count": 5,
   "id": "ede255d1",
   "metadata": {},
   "outputs": [],
   "source": [
    "data = pd.DataFrame(list(zip(name,age)), columns=['Name','Age'])"
   ]
  },
  {
   "cell_type": "code",
   "execution_count": 6,
   "id": "9fa315f7",
   "metadata": {},
   "outputs": [
    {
     "data": {
      "text/html": [
       "<div>\n",
       "<style scoped>\n",
       "    .dataframe tbody tr th:only-of-type {\n",
       "        vertical-align: middle;\n",
       "    }\n",
       "\n",
       "    .dataframe tbody tr th {\n",
       "        vertical-align: top;\n",
       "    }\n",
       "\n",
       "    .dataframe thead th {\n",
       "        text-align: right;\n",
       "    }\n",
       "</style>\n",
       "<table border=\"1\" class=\"dataframe\">\n",
       "  <thead>\n",
       "    <tr style=\"text-align: right;\">\n",
       "      <th></th>\n",
       "      <th>Name</th>\n",
       "      <th>Age</th>\n",
       "    </tr>\n",
       "  </thead>\n",
       "  <tbody>\n",
       "    <tr>\n",
       "      <th>0</th>\n",
       "      <td>safeer</td>\n",
       "      <td>24</td>\n",
       "    </tr>\n",
       "    <tr>\n",
       "      <th>1</th>\n",
       "      <td>dhavood</td>\n",
       "      <td>24</td>\n",
       "    </tr>\n",
       "    <tr>\n",
       "      <th>2</th>\n",
       "      <td>anzal</td>\n",
       "      <td>25</td>\n",
       "    </tr>\n",
       "    <tr>\n",
       "      <th>3</th>\n",
       "      <td>arun</td>\n",
       "      <td>25</td>\n",
       "    </tr>\n",
       "    <tr>\n",
       "      <th>4</th>\n",
       "      <td>ramshad</td>\n",
       "      <td>24</td>\n",
       "    </tr>\n",
       "    <tr>\n",
       "      <th>5</th>\n",
       "      <td>jishnu</td>\n",
       "      <td>24</td>\n",
       "    </tr>\n",
       "    <tr>\n",
       "      <th>6</th>\n",
       "      <td>annan</td>\n",
       "      <td>25</td>\n",
       "    </tr>\n",
       "    <tr>\n",
       "      <th>7</th>\n",
       "      <td>siraj</td>\n",
       "      <td>23</td>\n",
       "    </tr>\n",
       "  </tbody>\n",
       "</table>\n",
       "</div>"
      ],
      "text/plain": [
       "      Name  Age\n",
       "0   safeer   24\n",
       "1  dhavood   24\n",
       "2    anzal   25\n",
       "3     arun   25\n",
       "4  ramshad   24\n",
       "5   jishnu   24\n",
       "6    annan   25\n",
       "7    siraj   23"
      ]
     },
     "execution_count": 6,
     "metadata": {},
     "output_type": "execute_result"
    }
   ],
   "source": [
    "data"
   ]
  },
  {
   "cell_type": "code",
   "execution_count": 9,
   "id": "f4912115",
   "metadata": {},
   "outputs": [
    {
     "name": "stdout",
     "output_type": "stream",
     "text": [
      "enter a n value:7\n",
      "enter the namesafeer\n",
      "enter the age24\n",
      "enter the namedhavood\n",
      "enter the age24\n",
      "enter the nameanzal\n",
      "enter the age25\n",
      "enter the namearun\n",
      "enter the age25\n",
      "enter the nameramshad\n",
      "enter the age25\n",
      "enter the namejishnu\n",
      "enter the age24\n",
      "enter the nameannan\n",
      "enter the age25\n",
      "{'safeer': 24, 'dhavood': 24, 'anzal': 25, 'arun': 25, 'ramshad': 25, 'jishnu': 24, 'annan': 25}\n"
     ]
    }
   ],
   "source": [
    "n = int(input(\"enter a n value:\"))\n",
    "d = {}\n",
    "\n",
    "for i in range(n):\n",
    "    Name = input(\"enter the name\") \n",
    "    Age = int(input(\"enter the age\")) \n",
    "    d[Name] = Age\n",
    "print(d)"
   ]
  },
  {
   "cell_type": "code",
   "execution_count": 14,
   "id": "4c781550",
   "metadata": {},
   "outputs": [],
   "source": [
    "q = [\n",
    "    {'Name':'varun','Age':'24'},\n",
    "    {'Name':'arun','Age':'24'},\n",
    "    {'Name':'leela','Age':'24'},\n",
    "    {'Name':'geetha','Age':'24'},\n",
    "    {'Name':'salim','Age':'24'},\n",
    "    {'Name':'john','Age':'24'},\n",
    "]\n",
    "\n"
   ]
  },
  {
   "cell_type": "code",
   "execution_count": 15,
   "id": "0a0c60e3",
   "metadata": {},
   "outputs": [],
   "source": [
    "a=pd.DataFrame(q)"
   ]
  },
  {
   "cell_type": "code",
   "execution_count": 16,
   "id": "8d761a31",
   "metadata": {},
   "outputs": [
    {
     "data": {
      "text/html": [
       "<div>\n",
       "<style scoped>\n",
       "    .dataframe tbody tr th:only-of-type {\n",
       "        vertical-align: middle;\n",
       "    }\n",
       "\n",
       "    .dataframe tbody tr th {\n",
       "        vertical-align: top;\n",
       "    }\n",
       "\n",
       "    .dataframe thead th {\n",
       "        text-align: right;\n",
       "    }\n",
       "</style>\n",
       "<table border=\"1\" class=\"dataframe\">\n",
       "  <thead>\n",
       "    <tr style=\"text-align: right;\">\n",
       "      <th></th>\n",
       "      <th>Name</th>\n",
       "      <th>Age</th>\n",
       "    </tr>\n",
       "  </thead>\n",
       "  <tbody>\n",
       "    <tr>\n",
       "      <th>0</th>\n",
       "      <td>varun</td>\n",
       "      <td>24</td>\n",
       "    </tr>\n",
       "    <tr>\n",
       "      <th>1</th>\n",
       "      <td>arun</td>\n",
       "      <td>24</td>\n",
       "    </tr>\n",
       "    <tr>\n",
       "      <th>2</th>\n",
       "      <td>leela</td>\n",
       "      <td>24</td>\n",
       "    </tr>\n",
       "    <tr>\n",
       "      <th>3</th>\n",
       "      <td>geetha</td>\n",
       "      <td>24</td>\n",
       "    </tr>\n",
       "    <tr>\n",
       "      <th>4</th>\n",
       "      <td>salim</td>\n",
       "      <td>24</td>\n",
       "    </tr>\n",
       "    <tr>\n",
       "      <th>5</th>\n",
       "      <td>john</td>\n",
       "      <td>24</td>\n",
       "    </tr>\n",
       "  </tbody>\n",
       "</table>\n",
       "</div>"
      ],
      "text/plain": [
       "     Name Age\n",
       "0   varun  24\n",
       "1    arun  24\n",
       "2   leela  24\n",
       "3  geetha  24\n",
       "4   salim  24\n",
       "5    john  24"
      ]
     },
     "execution_count": 16,
     "metadata": {},
     "output_type": "execute_result"
    }
   ],
   "source": [
    "a"
   ]
  },
  {
   "cell_type": "code",
   "execution_count": 18,
   "id": "7fac1684",
   "metadata": {},
   "outputs": [],
   "source": [
    "b=[\n",
    "    {'Name':'rita','Age':'24','dob':'12/12/1998','gender':'f'},\n",
    "    {'Name':'arun','Age':'24','dob':'12/12/1998','gender':'m'},\n",
    "    {'Name':'sitha','Age':'24','dob':'12/12/1998','gender':'f'},\n",
    "    {'Name':'varun','Age':'24','dob':'12/12/1998','gender':'m'},\n",
    "    {'Name':'ram','Age':'24','dob':'12/12/1998','gender':'m'},\n",
    "    {'Name':'radha','Age':'24','dob':'12/12/1998','gender':'f'},\n",
    "    {'Name':'mohan','Age':'24','dob':'12/12/1998','gender':'m'},\n",
    "    {'Name':'devi','Age':'24','dob':'12/12/1998','gender':'f'},\n",
    "    {'Name':'nidhi','Age':'24','dob':'12/12/1998','gender':'f'}\n",
    "]"
   ]
  },
  {
   "cell_type": "code",
   "execution_count": 19,
   "id": "d3bb4fbf",
   "metadata": {},
   "outputs": [],
   "source": [
    "c=pd.DataFrame(b)"
   ]
  },
  {
   "cell_type": "code",
   "execution_count": 20,
   "id": "6eb7a81c",
   "metadata": {},
   "outputs": [
    {
     "data": {
      "text/html": [
       "<div>\n",
       "<style scoped>\n",
       "    .dataframe tbody tr th:only-of-type {\n",
       "        vertical-align: middle;\n",
       "    }\n",
       "\n",
       "    .dataframe tbody tr th {\n",
       "        vertical-align: top;\n",
       "    }\n",
       "\n",
       "    .dataframe thead th {\n",
       "        text-align: right;\n",
       "    }\n",
       "</style>\n",
       "<table border=\"1\" class=\"dataframe\">\n",
       "  <thead>\n",
       "    <tr style=\"text-align: right;\">\n",
       "      <th></th>\n",
       "      <th>Name</th>\n",
       "      <th>Age</th>\n",
       "      <th>dob</th>\n",
       "      <th>gender</th>\n",
       "    </tr>\n",
       "  </thead>\n",
       "  <tbody>\n",
       "    <tr>\n",
       "      <th>0</th>\n",
       "      <td>rita</td>\n",
       "      <td>24</td>\n",
       "      <td>12/12/1998</td>\n",
       "      <td>f</td>\n",
       "    </tr>\n",
       "    <tr>\n",
       "      <th>1</th>\n",
       "      <td>arun</td>\n",
       "      <td>24</td>\n",
       "      <td>12/12/1998</td>\n",
       "      <td>m</td>\n",
       "    </tr>\n",
       "    <tr>\n",
       "      <th>2</th>\n",
       "      <td>sitha</td>\n",
       "      <td>24</td>\n",
       "      <td>12/12/1998</td>\n",
       "      <td>f</td>\n",
       "    </tr>\n",
       "    <tr>\n",
       "      <th>3</th>\n",
       "      <td>varun</td>\n",
       "      <td>24</td>\n",
       "      <td>12/12/1998</td>\n",
       "      <td>m</td>\n",
       "    </tr>\n",
       "    <tr>\n",
       "      <th>4</th>\n",
       "      <td>ram</td>\n",
       "      <td>24</td>\n",
       "      <td>12/12/1998</td>\n",
       "      <td>m</td>\n",
       "    </tr>\n",
       "    <tr>\n",
       "      <th>5</th>\n",
       "      <td>radha</td>\n",
       "      <td>24</td>\n",
       "      <td>12/12/1998</td>\n",
       "      <td>f</td>\n",
       "    </tr>\n",
       "    <tr>\n",
       "      <th>6</th>\n",
       "      <td>mohan</td>\n",
       "      <td>24</td>\n",
       "      <td>12/12/1998</td>\n",
       "      <td>m</td>\n",
       "    </tr>\n",
       "    <tr>\n",
       "      <th>7</th>\n",
       "      <td>devi</td>\n",
       "      <td>24</td>\n",
       "      <td>12/12/1998</td>\n",
       "      <td>f</td>\n",
       "    </tr>\n",
       "    <tr>\n",
       "      <th>8</th>\n",
       "      <td>nidhi</td>\n",
       "      <td>24</td>\n",
       "      <td>12/12/1998</td>\n",
       "      <td>f</td>\n",
       "    </tr>\n",
       "  </tbody>\n",
       "</table>\n",
       "</div>"
      ],
      "text/plain": [
       "    Name Age         dob gender\n",
       "0   rita  24  12/12/1998      f\n",
       "1   arun  24  12/12/1998      m\n",
       "2  sitha  24  12/12/1998      f\n",
       "3  varun  24  12/12/1998      m\n",
       "4    ram  24  12/12/1998      m\n",
       "5  radha  24  12/12/1998      f\n",
       "6  mohan  24  12/12/1998      m\n",
       "7   devi  24  12/12/1998      f\n",
       "8  nidhi  24  12/12/1998      f"
      ]
     },
     "execution_count": 20,
     "metadata": {},
     "output_type": "execute_result"
    }
   ],
   "source": [
    "c"
   ]
  },
  {
   "cell_type": "code",
   "execution_count": null,
   "id": "603a4d39",
   "metadata": {},
   "outputs": [],
   "source": []
  }
 ],
 "metadata": {
  "kernelspec": {
   "display_name": "Python 3 (ipykernel)",
   "language": "python",
   "name": "python3"
  },
  "language_info": {
   "codemirror_mode": {
    "name": "ipython",
    "version": 3
   },
   "file_extension": ".py",
   "mimetype": "text/x-python",
   "name": "python",
   "nbconvert_exporter": "python",
   "pygments_lexer": "ipython3",
   "version": "3.9.13"
  }
 },
 "nbformat": 4,
 "nbformat_minor": 5
}
